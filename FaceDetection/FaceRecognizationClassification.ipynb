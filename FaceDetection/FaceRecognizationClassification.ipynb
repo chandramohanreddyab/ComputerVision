{
 "cells": [
  {
   "cell_type": "code",
   "execution_count": null,
   "metadata": {},
   "outputs": [],
   "source": [
    "#pip install opencv-contrib-python has to be installed for using LBPHF model trainer"
   ]
  },
  {
   "cell_type": "code",
   "execution_count": 24,
   "metadata": {},
   "outputs": [],
   "source": [
    "import cv2,os\n",
    "import pandas as pd\n",
    "import numpy as np"
   ]
  },
  {
   "cell_type": "code",
   "execution_count": 25,
   "metadata": {},
   "outputs": [],
   "source": [
    "#Data\n",
    "DataSets='DataSets'\n",
    "(width, height) = (1280,720) \n",
    "(images, lables, names, id) = ([], [], {}, 0) \n",
    "for dirs,subdirs,files in os.walk(DataSets):\n",
    "    for subdir in subdirs:\n",
    "        names[id] = subdir \n",
    "        img_path=os.path.join(DataSets, subdir)\n",
    "        for filename in os.listdir(img_path): \n",
    "            path = img_path + '/' + filename\n",
    "            lable = id\n",
    "            images.append(cv2.imread(path, 0)) \n",
    "            lables.append(int(lable)) \n",
    "        id += 1\n",
    "(images, lables) = [np.array(lis) for lis in [images, lables]]"
   ]
  },
  {
   "cell_type": "code",
   "execution_count": 26,
   "metadata": {},
   "outputs": [],
   "source": [
    "model = cv2.face.LBPHFaceRecognizer_create()\n",
    "model.train(images, lables)"
   ]
  },
  {
   "cell_type": "code",
   "execution_count": 29,
   "metadata": {},
   "outputs": [],
   "source": [
    "har_file='haarcascade_frontalface_default.xml'\n",
    "cascadeClassifier=cv2.CascadeClassifier(har_file)"
   ]
  },
  {
   "cell_type": "code",
   "execution_count": null,
   "metadata": {},
   "outputs": [],
   "source": [
    "\n",
    "#Taking the input from WebCamera\n",
    "webCam=cv2.VideoCapture(0)\n",
    "while True:\n",
    "    par,frame = webCam.read()\n",
    "    gray_frame= cv2.cvtColor(frame, cv2.COLOR_BGR2GRAY)\n",
    "    faces=cascadeClassifier.detectMultiScale(gray_frame,scaleFactor=1.1,minNeighbors=5)\n",
    "    for (x,y,w,h) in faces:\n",
    "        cv2.rectangle(frame, (x, y), (x + w, y + h), (255, 0, 0), 2)\n",
    "        face = gray_frame[y:y + h, x:x + w]\n",
    "        face_resize = cv2.resize(face, (width, height)) \n",
    "        #predit the face and gives the label and confidence\n",
    "        prediction = model.predict(face_resize) \n",
    "        cv2.rectangle(frame, (x, y), (x + w, y + h), (0, 255, 0), 3) \n",
    "        if prediction[0]<10:\n",
    "            cv2.putText(frame, '% s - %.0f' % (names[prediction[0]], prediction[1]), (x-10, y-10),  cv2.FONT_HERSHEY_PLAIN, 1, (0, 255, 0))\n",
    "        else:\n",
    "            cv2.putText(frame, 'unknown',  (x-10, y-10), cv2.FONT_HERSHEY_PLAIN, 1, (0, 255, 0)) \n",
    "            \n",
    "        cv2.imshow('FaceDetectionFrame', frame)"
   ]
  },
  {
   "cell_type": "code",
   "execution_count": null,
   "metadata": {},
   "outputs": [],
   "source": [
    "cv2.destroyAllWindows()\n",
    "webCam.release()"
   ]
  },
  {
   "cell_type": "code",
   "execution_count": null,
   "metadata": {},
   "outputs": [],
   "source": []
  },
  {
   "cell_type": "code",
   "execution_count": null,
   "metadata": {},
   "outputs": [],
   "source": []
  },
  {
   "cell_type": "code",
   "execution_count": null,
   "metadata": {},
   "outputs": [],
   "source": []
  }
 ],
 "metadata": {
  "kernelspec": {
   "display_name": "Python 3",
   "language": "python",
   "name": "python3"
  },
  "language_info": {
   "codemirror_mode": {
    "name": "ipython",
    "version": 3
   },
   "file_extension": ".py",
   "mimetype": "text/x-python",
   "name": "python",
   "nbconvert_exporter": "python",
   "pygments_lexer": "ipython3",
   "version": "3.7.4"
  }
 },
 "nbformat": 4,
 "nbformat_minor": 2
}
