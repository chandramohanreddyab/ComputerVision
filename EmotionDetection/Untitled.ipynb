{
 "cells": [
  {
   "cell_type": "code",
   "execution_count": 9,
   "metadata": {},
   "outputs": [],
   "source": [
    "#Importing the basis libraries\n",
    "import numpy as np\n",
    "import pandas as pd\n",
    "\n",
    "#Importing the cv and Keras for model training\n",
    "import cv2\n",
    "from keras.models import Sequential\n",
    "from keras.preprocessing.image import ImageDataGenerator\n",
    "from keras.layers import Dense,Convolution2D,Dropout,MaxPool2D,BatchNormalization,Flatten\n",
    "from keras.optimizers import adam,RMSprop\n",
    "from keras.callbacks import ReduceLROnPlateau,EarlyStopping\n",
    "import tensorflow as tf\n",
    "from keras.utils import to_categorical\n",
    "\n",
    "#Loading the data from Kaggle facial emotion recognization competition 2013\n",
    "# (https://github.com/atulapra/Emotion-detection/blob/master/Tensorflow/emotions.py)\n",
    "#Data has three columns (Emotion Label,Usage whether training or test,pixel values)\n",
    "\n",
    "train_data=pd.read_csv('data/train.csv')\n",
    "y=train_data['emotion'] \n",
    "X=[i.split(' ') for i in train_data['pixels']] #pixel values are seperated by space 48*48=2304\n",
    "\n",
    "#-------------------------------------------------------------\n",
    "num_classes = 7 # 0 to 6 as angry, disgust, fear, happy, sad and surprise, neutral\n",
    "batch_size = 256\n",
    "epochs = 30\n",
    "#-------------------------------------------------------------\n"
   ]
  },
  {
   "cell_type": "code",
   "execution_count": 10,
   "metadata": {},
   "outputs": [],
   "source": [
    "x_train = np.array(X, 'float32') #X is list, so converted to array\n",
    "y_train = y.astype('float32')"
   ]
  },
  {
   "cell_type": "code",
   "execution_count": 11,
   "metadata": {},
   "outputs": [],
   "source": [
    "x_train /= 255 #normalizing pixel values between 0 and 1\n",
    "y_train=to_categorical(y_train,num_classes) #conveting categorical varible"
   ]
  },
  {
   "cell_type": "code",
   "execution_count": 16,
   "metadata": {},
   "outputs": [],
   "source": [
    "x_train=x_train.reshape(-1,48,48,1)"
   ]
  },
  {
   "cell_type": "code",
   "execution_count": 21,
   "metadata": {},
   "outputs": [
    {
     "data": {
      "text/plain": [
       "(28709, 48, 48, 1)"
      ]
     },
     "execution_count": 21,
     "metadata": {},
     "output_type": "execute_result"
    }
   ],
   "source": [
    "x_train.shape"
   ]
  },
  {
   "cell_type": "code",
   "execution_count": 22,
   "metadata": {},
   "outputs": [],
   "source": [
    "#Model\n",
    "model=Sequential()"
   ]
  },
  {
   "cell_type": "code",
   "execution_count": 23,
   "metadata": {},
   "outputs": [],
   "source": [
    "#layer1\n",
    "model.add(Convolution2D(32,(4,4),padding='same',input_shape=(48,48,1)))\n",
    "model.add(Convolution2D(64,(4,4),padding='same'))\n",
    "model.add(MaxPool2D())\n",
    "model.add(Dropout(0.3))\n",
    "#layer2\n",
    "model.add(Convolution2D(64,(4,4),padding='same'))\n",
    "model.add(MaxPool2D())\n",
    "model.add(Dropout(0.3))\n",
    "#layer3\n",
    "model.add(Convolution2D(128,(4,4),padding='same'))\n",
    "model.add(MaxPool2D())\n",
    "model.add(Convolution2D(128,(4,4),padding='same'))\n",
    "model.add(MaxPool2D())\n",
    "model.add(Dropout(0.3))\n",
    "\n",
    "model.add(Flatten())\n",
    "\n",
    "#fully connected neural networks\n",
    "model.add(Dense(1024, activation='relu'))\n",
    "model.add(Dropout(0.2))\n",
    "model.add(Dense(1024, activation='relu'))\n",
    "model.add(Dropout(0.2))\n",
    "\n",
    "model.add(Dense(num_classes, activation='softmax'))\n"
   ]
  },
  {
   "cell_type": "code",
   "execution_count": 24,
   "metadata": {},
   "outputs": [],
   "source": [
    "ada=adam()"
   ]
  },
  {
   "cell_type": "code",
   "execution_count": 25,
   "metadata": {},
   "outputs": [],
   "source": [
    "#------------------------------\n",
    "#batch process\n",
    "gen = ImageDataGenerator()\n",
    "train_generator = gen.flow(x_train, y_train, batch_size=batch_size)\n",
    "\n",
    "#------------------------------\n",
    "\n",
    "model.compile(loss='categorical_crossentropy', optimizer=ada, metrics=['accuracy'])"
   ]
  },
  {
   "cell_type": "code",
   "execution_count": 26,
   "metadata": {},
   "outputs": [
    {
     "name": "stdout",
     "output_type": "stream",
     "text": [
      "Epoch 1/30\n",
      "256/256 [==============================] - 348s 1s/step - loss: 1.6068 - accuracy: 0.3613\n",
      "Epoch 2/30\n",
      "256/256 [==============================] - 349s 1s/step - loss: 1.2372 - accuracy: 0.5265\n",
      "Epoch 3/30\n",
      "256/256 [==============================] - 346s 1s/step - loss: 1.0698 - accuracy: 0.5945\n",
      "Epoch 4/30\n",
      "256/256 [==============================] - 349s 1s/step - loss: 0.9164 - accuracy: 0.6534\n",
      "Epoch 5/30\n",
      "256/256 [==============================] - 347s 1s/step - loss: 0.7636 - accuracy: 0.7129\n",
      "Epoch 6/30\n",
      "256/256 [==============================] - 1196s 5s/step - loss: 0.6567 - accuracy: 0.7560\n",
      "Epoch 7/30\n",
      "256/256 [==============================] - 350s 1s/step - loss: 0.5703 - accuracy: 0.7893\n",
      "Epoch 8/30\n",
      "256/256 [==============================] - 351s 1s/step - loss: 0.4853 - accuracy: 0.8230\n",
      "Epoch 9/30\n",
      "256/256 [==============================] - 349s 1s/step - loss: 0.4275 - accuracy: 0.8449\n",
      "Epoch 10/30\n",
      "256/256 [==============================] - 351s 1s/step - loss: 0.3795 - accuracy: 0.8628\n",
      "Epoch 11/30\n",
      "256/256 [==============================] - 2131s 8s/step - loss: 0.3545 - accuracy: 0.8723\n",
      "Epoch 12/30\n",
      "256/256 [==============================] - 349s 1s/step - loss: 0.3109 - accuracy: 0.8895\n",
      "Epoch 13/30\n",
      "256/256 [==============================] - 348s 1s/step - loss: 0.2945 - accuracy: 0.8962\n",
      "Epoch 14/30\n",
      "256/256 [==============================] - 350s 1s/step - loss: 0.2799 - accuracy: 0.9023\n",
      "Epoch 15/30\n",
      "256/256 [==============================] - 350s 1s/step - loss: 0.2730 - accuracy: 0.9056\n",
      "Epoch 16/30\n",
      "256/256 [==============================] - 353s 1s/step - loss: 0.2530 - accuracy: 0.9134\n",
      "Epoch 17/30\n",
      "256/256 [==============================] - 2134s 8s/step - loss: 0.2465 - accuracy: 0.9152\n",
      "Epoch 18/30\n",
      "256/256 [==============================] - 347s 1s/step - loss: 0.2411 - accuracy: 0.9167\n",
      "Epoch 19/30\n",
      "256/256 [==============================] - 348s 1s/step - loss: 0.2353 - accuracy: 0.9193\n",
      "Epoch 20/30\n",
      "256/256 [==============================] - 347s 1s/step - loss: 0.2189 - accuracy: 0.9250\n",
      "Epoch 21/30\n",
      "256/256 [==============================] - 348s 1s/step - loss: 0.2166 - accuracy: 0.9260\n",
      "Epoch 22/30\n",
      "256/256 [==============================] - 2121s 8s/step - loss: 0.2072 - accuracy: 0.9302\n",
      "Epoch 23/30\n",
      "256/256 [==============================] - 349s 1s/step - loss: 0.2063 - accuracy: 0.9299\n",
      "Epoch 24/30\n",
      "256/256 [==============================] - 348s 1s/step - loss: 0.2025 - accuracy: 0.9320\n",
      "Epoch 25/30\n",
      "256/256 [==============================] - 350s 1s/step - loss: 0.1929 - accuracy: 0.9351\n",
      "Epoch 26/30\n",
      "256/256 [==============================] - 350s 1s/step - loss: 0.2037 - accuracy: 0.9311\n",
      "Epoch 27/30\n",
      "256/256 [==============================] - 2155s 8s/step - loss: 0.1922 - accuracy: 0.9338\n",
      "Epoch 28/30\n",
      "256/256 [==============================] - 349s 1s/step - loss: 0.2014 - accuracy: 0.9326\n",
      "Epoch 29/30\n",
      "256/256 [==============================] - 346s 1s/step - loss: 0.1851 - accuracy: 0.9384\n",
      "Epoch 30/30\n",
      "256/256 [==============================] - 350s 1s/step - loss: 0.1895 - accuracy: 0.9364\n"
     ]
    },
    {
     "data": {
      "text/plain": [
       "<keras.callbacks.callbacks.History at 0x2c71bbf16c8>"
      ]
     },
     "execution_count": 26,
     "metadata": {},
     "output_type": "execute_result"
    }
   ],
   "source": [
    "model.fit_generator(train_generator, steps_per_epoch=batch_size, epochs=epochs) #train for randomly selected one\n",
    "#model.load_weights('/data/facial_expression_model_weights.h5') #load weights"
   ]
  },
  {
   "cell_type": "code",
   "execution_count": 28,
   "metadata": {},
   "outputs": [],
   "source": [
    "model.save_weights('data/facial_expression_detection_model.h5')"
   ]
  },
  {
   "cell_type": "code",
   "execution_count": null,
   "metadata": {},
   "outputs": [],
   "source": []
  },
  {
   "cell_type": "code",
   "execution_count": null,
   "metadata": {},
   "outputs": [],
   "source": []
  },
  {
   "cell_type": "code",
   "execution_count": null,
   "metadata": {},
   "outputs": [],
   "source": []
  },
  {
   "cell_type": "code",
   "execution_count": null,
   "metadata": {},
   "outputs": [],
   "source": []
  },
  {
   "cell_type": "code",
   "execution_count": null,
   "metadata": {},
   "outputs": [],
   "source": []
  },
  {
   "cell_type": "code",
   "execution_count": null,
   "metadata": {},
   "outputs": [],
   "source": []
  },
  {
   "cell_type": "code",
   "execution_count": null,
   "metadata": {},
   "outputs": [],
   "source": []
  },
  {
   "cell_type": "code",
   "execution_count": null,
   "metadata": {},
   "outputs": [],
   "source": []
  },
  {
   "cell_type": "code",
   "execution_count": null,
   "metadata": {},
   "outputs": [],
   "source": []
  }
 ],
 "metadata": {
  "kernelspec": {
   "display_name": "Python 3",
   "language": "python",
   "name": "python3"
  },
  "language_info": {
   "codemirror_mode": {
    "name": "ipython",
    "version": 3
   },
   "file_extension": ".py",
   "mimetype": "text/x-python",
   "name": "python",
   "nbconvert_exporter": "python",
   "pygments_lexer": "ipython3",
   "version": "3.7.4"
  }
 },
 "nbformat": 4,
 "nbformat_minor": 2
}
